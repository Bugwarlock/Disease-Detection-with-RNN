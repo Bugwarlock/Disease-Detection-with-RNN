{
 "cells": [
  {
   "cell_type": "code",
   "execution_count": 4,
   "metadata": {},
   "outputs": [
    {
     "data": {
      "text/plain": [
       "array([ 0.   , 10.656])"
      ]
     },
     "execution_count": 4,
     "metadata": {},
     "output_type": "execute_result"
    }
   ],
   "source": [
    "import numpy as np\n",
    "\n",
    "def maxnet(n):\n",
    "    e = (1/2)*0.8\n",
    "   #w = np.array((len(n),len(n)))\n",
    "   #for i in range(len(n)):\n",
    "   #    for j in range(len(n)):\n",
    "   #        if(i==j):\n",
    "   #            w[i,j]=1\n",
    "   #        else:\n",
    "   #            w[i,j]=-e\n",
    "    n_new = np.zeros(2)\n",
    "    k = 2\n",
    "    while(k>1):\n",
    "        for i in range(2):\n",
    "            summ = 0\n",
    "            for j in range(2):\n",
    "                if(j != i):\n",
    "                    summ += n[j]\n",
    "            n_new[i] = n[i] - e*summ\n",
    "        for i in range(2):\n",
    "            if(n_new[i]<0):\n",
    "                n_new[i]=0\n",
    "        n = n_new\n",
    "        k = 0\n",
    "        for i in range(2):\n",
    "            if(n[i] > 0):\n",
    "                k+=1\n",
    "    return n\n",
    "f = np.zeros(2)\n",
    "f[0]=6\n",
    "f[1]=12\n",
    "maxnet(f)"
   ]
  },
  {
   "cell_type": "code",
   "execution_count": 8,
   "metadata": {},
   "outputs": [
    {
     "name": "stdout",
     "output_type": "stream",
     "text": [
      "salem\n"
     ]
    }
   ],
   "source": [
    "mariz_sample = np.zeros(11)\n",
    "mariz_sample = [1,1,-1,1,-1,1,1,1,-1,-1,1]\n",
    "salem_sample = np.zeros(11)\n",
    "salem_sample = [-1,-1,1,1,-1,-1,-1,1,1,-1,-1]\n",
    "w = np.zeros((2,11))\n",
    "for i in range(2):\n",
    "    for j in range(11):\n",
    "        if(i==0):\n",
    "            w[i,j]=mariz_sample[j]/2\n",
    "        else:\n",
    "            w[i,j]=salem_sample[j]/2\n",
    "def comp(n):\n",
    "    out = np.zeros(2)\n",
    "    for i in range(11):\n",
    "        out[0] += w[0,i]*n[i]\n",
    "        out[1] += w[1,i]*n[i]\n",
    "    out[0] +=2\n",
    "    out[1] +=2\n",
    "    return out\n",
    "def detect(n):\n",
    "    if (n[0]>n[1]):\n",
    "        print('Mariz')\n",
    "    else:\n",
    "        print('salem')\n",
    "person1 = [1,-1,1,1,1,-1,-1,1,-1,-1,1] \n",
    "person2 = [1,-1,1,1,1,-1,-1,1,-1,-1,1] \n",
    "person3 = [-1,-1,1,-1,1,-1,-1,-1,-1,-1,1] \n",
    "person4 = [1,1,1,-1,1,-1,1,1,-1,1,1] \n",
    "person5 = [1,-1,1,1,-1,1,-1,1,1,-1,1] \n",
    "detect(maxnet(comp(person3)))"
   ]
  },
  {
   "cell_type": "code",
   "execution_count": 7,
   "metadata": {},
   "outputs": [
    {
     "data": {
      "text/plain": [
       "array([[5., 4.],\n",
       "       [5., 4.],\n",
       "       [8., 5.],\n",
       "       [5., 8.],\n",
       "       [4., 3.]])"
      ]
     },
     "execution_count": 7,
     "metadata": {},
     "output_type": "execute_result"
    }
   ],
   "source": [
    "import numpy as np\n",
    "haming = np.zeros((5,2))\n",
    "for i in range(11):\n",
    "    if(person1[i]!=mariz_sample[i]):\n",
    "        haming[0,0]+=1\n",
    "    if(person1[i]!=salem_sample[i]):\n",
    "        haming[0,1]+=1\n",
    "    if(person2[i]!=mariz_sample[i]):\n",
    "        haming[1,0]+=1\n",
    "    if(person2[i]!=salem_sample[i]):\n",
    "        haming[1,1]+=1\n",
    "    if(person3[i]!=mariz_sample[i]):\n",
    "        haming[2,0]+=1\n",
    "    if(person3[i]!=salem_sample[i]):\n",
    "        haming[2,1]+=1\n",
    "    if(person4[i]!=mariz_sample[i]):\n",
    "        haming[3,0]+=1\n",
    "    if(person4[i]!=salem_sample[i]):\n",
    "        haming[3,1]+=1\n",
    "    if(person5[i]!=mariz_sample[i]):\n",
    "        haming[4,0]+=1\n",
    "    if(person5[i]!=salem_sample[i]):\n",
    "        haming[4,1]+=1\n",
    "haming"
   ]
  }
 ],
 "metadata": {
  "kernelspec": {
   "display_name": "Python 3",
   "language": "python",
   "name": "python3"
  },
  "language_info": {
   "codemirror_mode": {
    "name": "ipython",
    "version": 3
   },
   "file_extension": ".py",
   "mimetype": "text/x-python",
   "name": "python",
   "nbconvert_exporter": "python",
   "pygments_lexer": "ipython3",
   "version": "3.7.0"
  }
 },
 "nbformat": 4,
 "nbformat_minor": 2
}
